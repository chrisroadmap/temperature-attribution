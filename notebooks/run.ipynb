{
 "cells": [
  {
   "cell_type": "markdown",
   "id": "9b31c667-41fa-4d63-9e18-21bca508c113",
   "metadata": {},
   "source": [
    "# Run temperature attributions and save out\n",
    "\n",
    "1. Run one scenario emissions driven. Save out the following forcing categories:\n",
    "\n",
    "- All forcing\n",
    "- All minus GHGs\n",
    "- All minus aerosols\n",
    "- All minus other anthropogenic\n",
    "- All minus natural\n",
    "\n",
    "2. re-run forcing-driven scenarios with the above."
   ]
  },
  {
   "cell_type": "code",
   "execution_count": null,
   "id": "b61aec79-9ea2-414d-b5c1-8f57c0fe7f97",
   "metadata": {},
   "outputs": [],
   "source": [
    "import os\n",
    "\n",
    "from fair import FAIR\n",
    "from fair.interface import fill, initialise\n",
    "from fair.io import read_properties\n",
    "import matplotlib.pyplot as pl\n",
    "import numpy as np\n",
    "import pandas as pd\n",
    "import scipy.stats\n",
    "import xarray as xr"
   ]
  },
  {
   "cell_type": "code",
   "execution_count": null,
   "id": "cb14c661-21a1-4643-8bda-9747a9d5dbf9",
   "metadata": {},
   "outputs": [],
   "source": [
    "pl.style.use('../defaults.mplstyle')"
   ]
  },
  {
   "cell_type": "code",
   "execution_count": null,
   "id": "a43cde15-a5bf-4949-921b-f5f07a3c136a",
   "metadata": {},
   "outputs": [],
   "source": [
    "output_ensemble_size=841"
   ]
  },
  {
   "cell_type": "code",
   "execution_count": null,
   "id": "91f06280-f28f-48d9-82b7-5bf092657a66",
   "metadata": {},
   "outputs": [],
   "source": [
    "scenarios = [\"all\"]"
   ]
  },
  {
   "cell_type": "code",
   "execution_count": null,
   "id": "974f50f2-48cd-46ed-9145-f9a3d06da1c0",
   "metadata": {},
   "outputs": [],
   "source": [
    "df_solar = pd.read_csv(\n",
    "    \"../data/forcing/solar_erf_timebounds.csv\", index_col=\"year\"\n",
    ")\n",
    "df_volcanic = pd.read_csv(\n",
    "    \"../data/forcing/volcanic_ERF_1750-2101_timebounds.csv\",\n",
    "    index_col=\"timebounds\",\n",
    ")\n",
    "\n",
    "# Normally, we adjust the efficacy of volcanic forcing, but here we calculate temperatures from forcing, so adjust the forcing directly.\n",
    "volcanic_forcing = df_volcanic[\"erf\"].loc[1750:2023].values * 0.6\n",
    "solar_forcing = df_solar[\"erf\"].loc[1750:2023].values\n",
    "\n",
    "trend_shape = np.ones(274)\n",
    "trend_shape[:271] = np.linspace(0, 1, 271)"
   ]
  },
  {
   "cell_type": "code",
   "execution_count": null,
   "id": "709a3582-90ad-4cee-92f1-a2189b2dff05",
   "metadata": {},
   "outputs": [],
   "source": [
    "df_methane_141 = pd.read_csv(\n",
    "    \"../data/calibration/v1.4.1/CH4_lifetime.csv\",\n",
    "    index_col=0,\n",
    ")\n",
    "df_configs_141 = pd.read_csv(\n",
    "    \"../data/calibration/v1.4.1/calibrated_constrained_parameters.csv\",\n",
    "    index_col=0,\n",
    ")\n",
    "df_landuse_141 = pd.read_csv(\n",
    "    \"../data/calibration/v1.4.1/landuse_scale_factor.csv\",\n",
    "    index_col=0,\n",
    ")\n",
    "df_lapsi_141 = pd.read_csv(\n",
    "    \"../data/calibration/v1.4.1/lapsi_scale_factor.csv\",\n",
    "    index_col=0,\n",
    ")"
   ]
  },
  {
   "cell_type": "code",
   "execution_count": null,
   "id": "9902dc53-1cfe-487a-b316-20ebd47043a7",
   "metadata": {},
   "outputs": [],
   "source": [
    "configs = df_configs_141.index"
   ]
  },
  {
   "cell_type": "markdown",
   "id": "90b6695c-161c-4450-a492-03b495299dc2",
   "metadata": {},
   "source": [
    "## First, emissions-driven run"
   ]
  },
  {
   "cell_type": "code",
   "execution_count": null,
   "id": "f3aacdcd-72df-4537-8d88-202646a11efe",
   "metadata": {},
   "outputs": [],
   "source": [
    "f = FAIR(ch4_method=\"Thornhill2021\")\n",
    "f.define_time(1750, 2023, 1)\n",
    "f.define_scenarios(scenarios)\n",
    "f.define_configs(configs)\n",
    "species, properties = read_properties()\n",
    "species.remove(\"Halon-1202\")\n",
    "species.remove(\"NOx aviation\")\n",
    "species.remove(\"Contrails\")\n",
    "f.define_species(species, properties)\n",
    "f.allocate()"
   ]
  },
  {
   "cell_type": "markdown",
   "id": "10478f26-d1b5-4ee8-8d95-6f9bd5b36556",
   "metadata": {},
   "source": [
    "### Get emissions into fair\n",
    "\n",
    "copy across the baseline emissions from ssp245 into all scenarios (baseline scenario doesn't matter as they are the same up to 2022)"
   ]
  },
  {
   "cell_type": "code",
   "execution_count": null,
   "id": "678e3a85-182a-402d-9fe2-d5e30b20a500",
   "metadata": {},
   "outputs": [],
   "source": [
    "da_emissions_141 = xr.load_dataarray(\n",
    "    \"../data/emissions/v1.4.1/ssps_harmonized_1750-2499.nc\"\n",
    ")\n",
    "da = da_emissions_141.loc[\n",
    "    dict(config=\"unspecified\", scenario=\"ssp245\", timepoints=np.arange(1750.5, 2023))\n",
    "].drop_vars((\"scenario\", \"config\"))\n",
    "\n",
    "for config in configs:\n",
    "    for scenario in scenarios:\n",
    "        f.emissions.loc[dict(scenario=scenario, config=config)] = da"
   ]
  },
  {
   "cell_type": "code",
   "execution_count": null,
   "id": "a1d64876-4ed0-4505-8f5a-a4e45ece4d5f",
   "metadata": {},
   "outputs": [],
   "source": [
    "f.emissions"
   ]
  },
  {
   "cell_type": "markdown",
   "id": "9c947d63-96b8-464d-86e2-037b8b46fff6",
   "metadata": {},
   "source": [
    "### Fill in all the configs"
   ]
  },
  {
   "cell_type": "code",
   "execution_count": null,
   "id": "17a1c1d2-c738-46c9-96f1-50cd6b860233",
   "metadata": {},
   "outputs": [],
   "source": [
    "# solar and volcanic forcing\n",
    "fill(\n",
    "    f.forcing,\n",
    "    volcanic_forcing[:, None, None] * df_configs_141[\"fscale_Volcanic\"].values.squeeze(),\n",
    "    specie=\"Volcanic\",\n",
    ")\n",
    "fill(\n",
    "    f.forcing,\n",
    "    solar_forcing[:, None, None] * df_configs_141[\"fscale_solar_amplitude\"].values.squeeze()\n",
    "    + trend_shape[:, None, None] * df_configs_141[\"fscale_solar_trend\"].values.squeeze(),\n",
    "    specie=\"Solar\",\n",
    ")\n",
    "# climate response\n",
    "fill(\n",
    "    f.climate_configs[\"ocean_heat_capacity\"],\n",
    "    df_configs_141.loc[:, \"clim_c1\":\"clim_c3\"].values,\n",
    ")\n",
    "fill(\n",
    "    f.climate_configs[\"ocean_heat_transfer\"],\n",
    "    df_configs_141.loc[:, \"clim_kappa1\":\"clim_kappa3\"].values,\n",
    ")  # not massively robust, since relies on kappa1, kappa2, kappa3 being in adjacent cols\n",
    "fill(\n",
    "    f.climate_configs[\"deep_ocean_efficacy\"],\n",
    "    df_configs_141[\"clim_epsilon\"].values.squeeze(),\n",
    ")\n",
    "fill(\n",
    "    f.climate_configs[\"gamma_autocorrelation\"],\n",
    "    df_configs_141[\"clim_gamma\"].values.squeeze(),\n",
    ")\n",
    "fill(f.climate_configs[\"sigma_eta\"], df_configs_141[\"clim_sigma_eta\"].values.squeeze())\n",
    "fill(f.climate_configs[\"sigma_xi\"], df_configs_141[\"clim_sigma_xi\"].values.squeeze())\n",
    "fill(f.climate_configs[\"seed\"], df_configs_141[\"seed\"])\n",
    "fill(f.climate_configs[\"stochastic_run\"], False)\n",
    "fill(f.climate_configs[\"use_seed\"], False)\n",
    "fill(f.climate_configs[\"forcing_4co2\"], df_configs_141[\"clim_F_4xCO2\"])\n",
    "\n",
    "# species level\n",
    "f.fill_species_configs()\n",
    "\n",
    "# carbon cycle\n",
    "fill(f.species_configs[\"iirf_0\"], df_configs_141[\"cc_r0\"].values.squeeze(), specie=\"CO2\")\n",
    "fill(\n",
    "    f.species_configs[\"iirf_airborne\"],\n",
    "    df_configs_141[\"cc_rA\"].values.squeeze(),\n",
    "    specie=\"CO2\",\n",
    ")\n",
    "fill(\n",
    "    f.species_configs[\"iirf_uptake\"], df_configs_141[\"cc_rU\"].values.squeeze(), specie=\"CO2\"\n",
    ")\n",
    "fill(\n",
    "    f.species_configs[\"iirf_temperature\"],\n",
    "    df_configs_141[\"cc_rT\"].values.squeeze(),\n",
    "    specie=\"CO2\",\n",
    ")\n",
    "\n",
    "# aerosol indirect\n",
    "fill(f.species_configs[\"aci_scale\"], df_configs_141[\"aci_beta\"].values.squeeze())\n",
    "fill(\n",
    "    f.species_configs[\"aci_shape\"],\n",
    "    df_configs_141[\"aci_shape_so2\"].values.squeeze(),\n",
    "    specie=\"Sulfur\",\n",
    ")\n",
    "fill(\n",
    "    f.species_configs[\"aci_shape\"],\n",
    "    df_configs_141[\"aci_shape_bc\"].values.squeeze(),\n",
    "    specie=\"BC\",\n",
    ")\n",
    "fill(\n",
    "    f.species_configs[\"aci_shape\"],\n",
    "    df_configs_141[\"aci_shape_oc\"].values.squeeze(),\n",
    "    specie=\"OC\",\n",
    ")\n",
    "\n",
    "# methane lifetime baseline and sensitivity\n",
    "fill(\n",
    "    f.species_configs[\"unperturbed_lifetime\"],\n",
    "    df_methane_141.loc[\"historical_best\", \"base\"],\n",
    "    specie=\"CH4\",\n",
    ")\n",
    "fill(\n",
    "    f.species_configs[\"ch4_lifetime_chemical_sensitivity\"],\n",
    "    df_methane_141.loc[\"historical_best\", \"CH4\"],\n",
    "    specie=\"CH4\",\n",
    ")\n",
    "fill(\n",
    "    f.species_configs[\"ch4_lifetime_chemical_sensitivity\"],\n",
    "    df_methane_141.loc[\"historical_best\", \"N2O\"],\n",
    "    specie=\"N2O\",\n",
    ")\n",
    "fill(\n",
    "    f.species_configs[\"ch4_lifetime_chemical_sensitivity\"],\n",
    "    df_methane_141.loc[\"historical_best\", \"VOC\"],\n",
    "    specie=\"VOC\",\n",
    ")\n",
    "fill(\n",
    "    f.species_configs[\"ch4_lifetime_chemical_sensitivity\"],\n",
    "    df_methane_141.loc[\"historical_best\", \"NOx\"],\n",
    "    specie=\"NOx\",\n",
    ")\n",
    "fill(\n",
    "    f.species_configs[\"ch4_lifetime_chemical_sensitivity\"],\n",
    "    df_methane_141.loc[\"historical_best\", \"HC\"],\n",
    "    specie=\"Equivalent effective stratospheric chlorine\",\n",
    ")\n",
    "fill(\n",
    "    f.species_configs[\"lifetime_temperature_sensitivity\"],\n",
    "    df_methane_141.loc[\"historical_best\", \"temp\"],\n",
    ")\n",
    "\n",
    "# correct land use  and LAPSI scale factor terms\n",
    "fill(\n",
    "    f.species_configs[\"land_use_cumulative_emissions_to_forcing\"],\n",
    "    df_landuse_141.loc[\"historical_best\", \"CO2_AFOLU\"],\n",
    "    specie=\"CO2 AFOLU\",\n",
    ")\n",
    "fill(\n",
    "    f.species_configs[\"lapsi_radiative_efficiency\"],\n",
    "    df_lapsi_141.loc[\"historical_best\", \"BC\"],\n",
    "    specie=\"BC\",\n",
    ")\n",
    "\n",
    "# emissions adjustments for N2O and CH4 (we don't want to make these defaults as people\n",
    "# might wanna run pulse expts with these gases)\n",
    "fill(f.species_configs[\"baseline_emissions\"], 38.246272, specie=\"CH4\")\n",
    "fill(f.species_configs[\"baseline_emissions\"], 0.92661989, specie=\"N2O\")\n",
    "fill(f.species_configs[\"baseline_emissions\"], 19.41683292, specie=\"NOx\")\n",
    "fill(f.species_configs[\"baseline_emissions\"], 2.293964929, specie=\"Sulfur\")\n",
    "fill(f.species_configs[\"baseline_emissions\"], 348.4549732, specie=\"CO\")\n",
    "fill(f.species_configs[\"baseline_emissions\"], 60.62284009, specie=\"VOC\")\n",
    "fill(f.species_configs[\"baseline_emissions\"], 2.096765609, specie=\"BC\")\n",
    "fill(f.species_configs[\"baseline_emissions\"], 15.44571911, specie=\"OC\")\n",
    "fill(f.species_configs[\"baseline_emissions\"], 6.656462698, specie=\"NH3\")\n",
    "fill(f.species_configs[\"baseline_emissions\"], 0.92661989, specie=\"N2O\")\n",
    "fill(f.species_configs[\"baseline_emissions\"], 0.02129917, specie=\"CCl4\")\n",
    "fill(f.species_configs[\"baseline_emissions\"], 202.7251231, specie=\"CHCl3\")\n",
    "fill(f.species_configs[\"baseline_emissions\"], 211.0095537, specie=\"CH2Cl2\")\n",
    "fill(f.species_configs[\"baseline_emissions\"], 4544.519056, specie=\"CH3Cl\")\n",
    "fill(f.species_configs[\"baseline_emissions\"], 111.4920237, specie=\"CH3Br\")\n",
    "fill(f.species_configs[\"baseline_emissions\"], 0.008146006, specie=\"Halon-1211\")\n",
    "fill(f.species_configs[\"baseline_emissions\"], 0.000010554155, specie=\"SO2F2\")\n",
    "fill(f.species_configs[\"baseline_emissions\"], 0, specie=\"CF4\")\n",
    "\n",
    "# aerosol direct\n",
    "for specie in [\n",
    "    \"BC\",\n",
    "    \"CH4\",\n",
    "    \"N2O\",\n",
    "    \"NH3\",\n",
    "    \"NOx\",\n",
    "    \"OC\",\n",
    "    \"Sulfur\",\n",
    "    \"VOC\",\n",
    "    \"Equivalent effective stratospheric chlorine\",\n",
    "]:\n",
    "    fill(\n",
    "        f.species_configs[\"erfari_radiative_efficiency\"],\n",
    "        df_configs_141[f\"ari_{specie}\"],\n",
    "        specie=specie,\n",
    "    )\n",
    "\n",
    "# forcing scaling\n",
    "for specie in [\n",
    "    \"CO2\",\n",
    "    \"CH4\",\n",
    "    \"N2O\",\n",
    "    \"Stratospheric water vapour\",\n",
    "    \"Light absorbing particles on snow and ice\",\n",
    "    \"Land use\",\n",
    "]:\n",
    "    fill(\n",
    "        f.species_configs[\"forcing_scale\"],\n",
    "        df_configs_141[f\"fscale_{specie}\"].values.squeeze(),\n",
    "        specie=specie,\n",
    "    )\n",
    "\n",
    "for specie in [\n",
    "    \"CFC-11\",\n",
    "    \"CFC-12\",\n",
    "    \"CFC-113\",\n",
    "    \"CFC-114\",\n",
    "    \"CFC-115\",\n",
    "    \"HCFC-22\",\n",
    "    \"HCFC-141b\",\n",
    "    \"HCFC-142b\",\n",
    "    \"CCl4\",\n",
    "    \"CHCl3\",\n",
    "    \"CH2Cl2\",\n",
    "    \"CH3Cl\",\n",
    "    \"CH3CCl3\",\n",
    "    \"CH3Br\",\n",
    "    \"Halon-1211\",\n",
    "    \"Halon-1301\",\n",
    "    \"Halon-2402\",\n",
    "    \"CF4\",\n",
    "    \"C2F6\",\n",
    "    \"C3F8\",\n",
    "    \"c-C4F8\",\n",
    "    \"C4F10\",\n",
    "    \"C5F12\",\n",
    "    \"C6F14\",\n",
    "    \"C7F16\",\n",
    "    \"C8F18\",\n",
    "    \"NF3\",\n",
    "    \"SF6\",\n",
    "    \"SO2F2\",\n",
    "    \"HFC-125\",\n",
    "    \"HFC-134a\",\n",
    "    \"HFC-143a\",\n",
    "    \"HFC-152a\",\n",
    "    \"HFC-227ea\",\n",
    "    \"HFC-23\",\n",
    "    \"HFC-236fa\",\n",
    "    \"HFC-245fa\",\n",
    "    \"HFC-32\",\n",
    "    \"HFC-365mfc\",\n",
    "    \"HFC-4310mee\",\n",
    "]:\n",
    "    fill(\n",
    "        f.species_configs[\"forcing_scale\"],\n",
    "        df_configs_141[\"fscale_minorGHG\"].values.squeeze(),\n",
    "        specie=specie,\n",
    "    )\n",
    "\n",
    "# ozone\n",
    "for specie in [\n",
    "    \"CH4\",\n",
    "    \"N2O\",\n",
    "    \"Equivalent effective stratospheric chlorine\",\n",
    "    \"CO\",\n",
    "    \"VOC\",\n",
    "    \"NOx\",\n",
    "]:\n",
    "    fill(\n",
    "        f.species_configs[\"ozone_radiative_efficiency\"],\n",
    "        df_configs_141[f\"o3_{specie}\"],\n",
    "        specie=specie,\n",
    "    )\n",
    "\n",
    "# # tune down volcanic efficacy\n",
    "# fill(f.species_configs[\"forcing_efficacy\"], 0.6, specie=\"Volcanic\")\n",
    "\n",
    "\n",
    "# initial condition of CO2 concentration (but not baseline for forcing calculations)\n",
    "fill(\n",
    "    f.species_configs[\"baseline_concentration\"],\n",
    "    df_configs_141[\"cc_co2_concentration_1750\"].values.squeeze(),\n",
    "    specie=\"CO2\",\n",
    ")\n",
    "\n",
    "# initial conditions\n",
    "initialise(f.concentration, f.species_configs[\"baseline_concentration\"])\n",
    "initialise(f.forcing, 0)\n",
    "initialise(f.temperature, 0)\n",
    "initialise(f.cumulative_emissions, 0)\n",
    "initialise(f.airborne_emissions, 0)"
   ]
  },
  {
   "cell_type": "code",
   "execution_count": null,
   "id": "c8ee4684-7cba-4f53-be8c-66befdc90f2b",
   "metadata": {},
   "outputs": [],
   "source": [
    "f.run()"
   ]
  },
  {
   "cell_type": "markdown",
   "id": "9c402f15-fc5a-4982-8bc1-fcef6e9b18f7",
   "metadata": {},
   "source": [
    "## Now isolate out forcing cats"
   ]
  },
  {
   "cell_type": "code",
   "execution_count": null,
   "id": "b735f033-8549-4321-a592-2f1969b4bd1e",
   "metadata": {},
   "outputs": [],
   "source": [
    "f.species"
   ]
  },
  {
   "cell_type": "code",
   "execution_count": null,
   "id": "f932ac1a-2360-4203-a69c-7deec26b14f8",
   "metadata": {},
   "outputs": [],
   "source": [
    "ghgs = [\n",
    " 'CO2',\n",
    " 'CH4',\n",
    " 'N2O',\n",
    " 'CFC-11',\n",
    " 'CFC-12',\n",
    " 'CFC-113',\n",
    " 'CFC-114',\n",
    " 'CFC-115',\n",
    " 'HCFC-22',\n",
    " 'HCFC-141b',\n",
    " 'HCFC-142b',\n",
    " 'CCl4',\n",
    " 'CHCl3',\n",
    " 'CH2Cl2',\n",
    " 'CH3Cl',\n",
    " 'CH3CCl3',\n",
    " 'CH3Br',\n",
    " 'Halon-1211',\n",
    " 'Halon-1301',\n",
    " 'Halon-2402',\n",
    " 'CF4',\n",
    " 'C2F6',\n",
    " 'C3F8',\n",
    " 'c-C4F8',\n",
    " 'C4F10',\n",
    " 'C5F12',\n",
    " 'C6F14',\n",
    " 'C7F16',\n",
    " 'C8F18',\n",
    " 'NF3',\n",
    " 'SF6',\n",
    " 'SO2F2',\n",
    " 'HFC-125',\n",
    " 'HFC-134a',\n",
    " 'HFC-143a',\n",
    " 'HFC-152a',\n",
    " 'HFC-227ea',\n",
    " 'HFC-23',\n",
    " 'HFC-236fa',\n",
    " 'HFC-245fa',\n",
    " 'HFC-32',\n",
    " 'HFC-365mfc',\n",
    " 'HFC-4310mee',\n",
    "]"
   ]
  },
  {
   "cell_type": "code",
   "execution_count": null,
   "id": "a98c07ed-9b26-4ac9-8df6-309601414748",
   "metadata": {},
   "outputs": [],
   "source": [
    "aerosols = [\n",
    " 'Aerosol-radiation interactions',\n",
    " 'Aerosol-cloud interactions',\n",
    "]"
   ]
  },
  {
   "cell_type": "code",
   "execution_count": null,
   "id": "b04f046e-48c7-48a7-8f83-f1c14a7abe0b",
   "metadata": {},
   "outputs": [],
   "source": [
    "natural = [\n",
    " 'Solar',\n",
    " 'Volcanic',\n",
    "]"
   ]
  },
  {
   "cell_type": "code",
   "execution_count": null,
   "id": "c5a6fd72-13cb-4d09-995b-860b938437b3",
   "metadata": {},
   "outputs": [],
   "source": [
    "other = [\n",
    " 'Ozone',\n",
    " 'Light absorbing particles on snow and ice',\n",
    " 'Stratospheric water vapour',\n",
    " 'Land use',\n",
    "]"
   ]
  },
  {
   "cell_type": "code",
   "execution_count": null,
   "id": "09d90a2e-c912-471d-97d1-eff3f6758121",
   "metadata": {},
   "outputs": [],
   "source": [
    "pl.plot(f.forcing.sel(specie=ghgs).sum(dim='specie').sel(scenario='all'));"
   ]
  },
  {
   "cell_type": "code",
   "execution_count": null,
   "id": "c5a9e5e4-9fa5-4d9d-a7a9-71bd6b146d99",
   "metadata": {},
   "outputs": [],
   "source": [
    "pl.plot(f.forcing.sel(specie=aerosols).sum(dim='specie').sel(scenario='all'));"
   ]
  },
  {
   "cell_type": "code",
   "execution_count": null,
   "id": "175ebf68-ea3a-421c-977f-d66c42d426a7",
   "metadata": {},
   "outputs": [],
   "source": [
    "pl.plot(f.forcing.sel(specie=other).sum(dim='specie').sel(scenario='all'));"
   ]
  },
  {
   "cell_type": "code",
   "execution_count": null,
   "id": "2cec1bc2-9789-41c4-9cd8-8307d81bd86d",
   "metadata": {},
   "outputs": [],
   "source": [
    "pl.plot(f.forcing.sel(specie=natural).sum(dim='specie').sel(scenario='all'));"
   ]
  },
  {
   "cell_type": "markdown",
   "id": "52cb911c-a4fb-486f-86c5-5260c34f59b7",
   "metadata": {},
   "source": [
    "### Check linearity\n",
    "\n",
    "note y-axis value very small - minimal floating point differences are fine"
   ]
  },
  {
   "cell_type": "code",
   "execution_count": null,
   "id": "a1856553-6341-4760-bcbb-e8bf936929d3",
   "metadata": {},
   "outputs": [],
   "source": [
    "pl.plot(\n",
    "    f.forcing_sum.sel(scenario='all') - (\n",
    "        f.forcing.sel(specie=ghgs).sum(dim='specie').sel(scenario='all') +\n",
    "        f.forcing.sel(specie=aerosols).sum(dim='specie').sel(scenario='all') +\n",
    "        f.forcing.sel(specie=other).sum(dim='specie').sel(scenario='all') + \n",
    "        f.forcing.sel(specie=natural).sum(dim='specie').sel(scenario='all')\n",
    "    )\n",
    ");"
   ]
  },
  {
   "cell_type": "markdown",
   "id": "0b204951-211f-4944-a3a1-0c9447dc23bf",
   "metadata": {},
   "source": [
    "## Constrained ensemble statistics\n",
    "\n",
    "Compare the constrained ensemble to the IPCC assessed ranges. ECS is asymmetric so we fit a skew-normal to the percentiles."
   ]
  },
  {
   "cell_type": "code",
   "execution_count": null,
   "id": "154f76d2-878c-4fd6-991c-35fbe0be844a",
   "metadata": {},
   "outputs": [],
   "source": [
    "def opt(x, q05_desired, q50_desired, q95_desired):\n",
    "    \"\"\"Fit a skew-normal distribution to 5, 50, 95 percentiles.\n",
    "    \n",
    "    x is (a, loc, scale) in that order.\"\"\"\n",
    "    q05, q50, q95 = scipy.stats.skewnorm.ppf(\n",
    "        (0.05, 0.50, 0.95), x[0], loc=x[1], scale=x[2]\n",
    "    )\n",
    "    return (q05 - q05_desired, q50 - q50_desired, q95 - q95_desired)"
   ]
  },
  {
   "cell_type": "code",
   "execution_count": null,
   "id": "6e8642ef-d34f-4b3d-9ab7-40f800778e23",
   "metadata": {},
   "outputs": [],
   "source": [
    "# conversion from one standard deviation to 90% range\n",
    "NINETY_TO_ONESIGMA = scipy.stats.norm.ppf(0.95)\n",
    "NINETY_TO_ONESIGMA"
   ]
  },
  {
   "cell_type": "code",
   "execution_count": null,
   "id": "700c3580-6408-4f2a-ba06-bb3f88e009aa",
   "metadata": {},
   "outputs": [],
   "source": [
    "ecs_params = scipy.optimize.root(opt, [1, 1, 1], args=(2, 3, 5)).x\n",
    "ecs_params"
   ]
  },
  {
   "cell_type": "code",
   "execution_count": null,
   "id": "a0b8967b-3774-4859-b47b-7612f341ceb0",
   "metadata": {},
   "outputs": [],
   "source": [
    "aer_dist = scipy.stats.norm(loc=-1.3, scale=0.7/NINETY_TO_ONESIGMA)"
   ]
  },
  {
   "cell_type": "code",
   "execution_count": null,
   "id": "e140b92e-5a48-46ce-8cae-27a9ae5c5972",
   "metadata": {},
   "outputs": [],
   "source": [
    "ecs_samp = ((df_configs_141['clim_F_4xCO2']/2)/df_configs_141['clim_kappa1']).values\n",
    "ecs_dist = scipy.stats.skewnorm(a=ecs_params[0], loc=ecs_params[1], scale=ecs_params[2])"
   ]
  },
  {
   "cell_type": "code",
   "execution_count": null,
   "id": "7ee66dfa-5971-4873-88fa-c856bea2f42b",
   "metadata": {},
   "outputs": [],
   "source": [
    "aer_samp = f.forcing.sel(specie=aerosols, timebounds=np.arange(2005, 2015)).sum(dim='specie').sel(scenario='all').mean(dim='timebounds')"
   ]
  },
  {
   "cell_type": "code",
   "execution_count": null,
   "id": "d774c689-43b8-4905-9aff-9042d3104aa1",
   "metadata": {},
   "outputs": [],
   "source": [
    "fig, ax = pl.subplots(1, 3, figsize=(12,4))\n",
    "\n",
    "ax[0].hist(aer_samp, bins=np.arange(-2.5, 0.1, 0.1), density=True)\n",
    "ax[0].plot(np.linspace(-3, 0.5, 101), aer_dist.pdf(np.linspace(-3, 0.5, 101)), color='k', lw=2)\n",
    "ax[0].set_xlim(-3, 0.5)\n",
    "ax[0].set_title('Aerosol forcing')\n",
    "ax[0].set_xlabel('W m$^{-2}$')\n",
    "ax[0].set_ylabel('Density')\n",
    "\n",
    "ax[1].hist(ecs_samp, bins=np.arange(0, 8.1, 0.2), density=True, label='Constrained ensemble')\n",
    "ax[1].plot(np.linspace(0, 8, 101), ecs_dist.pdf(np.linspace(0, 8, 101)), color='k', lw=2, label='IPCC AR6')\n",
    "ax[1].set_xlim(0, 8)\n",
    "ax[1].legend(fontsize=10, frameon=False)\n",
    "ax[1].set_title('ECS')\n",
    "ax[1].set_xlabel('ECS, °C')\n",
    "ax[1].set_ylabel('Density')\n",
    "\n",
    "ax[2].scatter(ecs_samp, aer_samp)\n",
    "ax[2].set_xlim(1,8)\n",
    "ax[2].set_ylim(-2.6, 0.1)\n",
    "ax[2].set_title('Correlation')\n",
    "ax[2].set_xlabel('ECS, °C')\n",
    "ax[2].set_ylabel('Aerosol forcing, W m$^{-2}$')\n",
    "\n",
    "fig.tight_layout()\n",
    "os.makedirs('../plots/', exist_ok=True)\n",
    "pl.savefig('../plots/distributions.png')"
   ]
  },
  {
   "cell_type": "code",
   "execution_count": null,
   "id": "bffab45a-ed26-441a-8067-34242ae252eb",
   "metadata": {},
   "outputs": [],
   "source": [
    "scenarios = [\"all\", \"no_ghgs\", \"no_aerosols\", \"no_other\", \"no_natural\"]"
   ]
  },
  {
   "cell_type": "code",
   "execution_count": null,
   "id": "d8cd20c2-78fc-47dc-8809-2aeb828be6a1",
   "metadata": {},
   "outputs": [],
   "source": [
    "ff = FAIR()\n",
    "ff.define_time(1750, 2023, 1)\n",
    "ff.define_scenarios(scenarios)\n",
    "ff.define_configs(configs)\n",
    "\n",
    "species = [\"bulk\"]\n",
    "properties = {\n",
    "    \"bulk\": {\n",
    "        \"type\": \"unspecified\",\n",
    "        \"input_mode\": \"forcing\",\n",
    "        \"greenhouse_gas\": False,\n",
    "        \"aerosol_chemistry_from_emissions\": False,\n",
    "        \"aerosol_chemistry_from_concentration\": False,\n",
    "    }\n",
    "}\n",
    "\n",
    "ff.define_species(species, properties)\n",
    "ff.allocate()"
   ]
  },
  {
   "cell_type": "markdown",
   "id": "960d4a51-7ab2-4494-8fea-a94d7874d735",
   "metadata": {},
   "source": [
    "### Create forcing-driven time series"
   ]
  },
  {
   "cell_type": "code",
   "execution_count": null,
   "id": "68f73c42-7488-4449-8042-f9f1424944d7",
   "metadata": {},
   "outputs": [],
   "source": [
    "fill(\n",
    "    ff.forcing,\n",
    "    f.forcing_sum.sel(scenario='all') - f.forcing.sel(specie=ghgs).sum(dim='specie').sel(scenario='all'),\n",
    "    specie=\"bulk\",\n",
    "    scenario=\"no_ghgs\"\n",
    ")"
   ]
  },
  {
   "cell_type": "code",
   "execution_count": null,
   "id": "c195f940-a227-4aae-a54c-1f7e33909df9",
   "metadata": {},
   "outputs": [],
   "source": [
    "fill(\n",
    "    ff.forcing,\n",
    "    f.forcing_sum.sel(scenario='all') - f.forcing.sel(specie=aerosols).sum(dim='specie').sel(scenario='all'),\n",
    "    specie=\"bulk\",\n",
    "    scenario=\"no_aerosols\"\n",
    ")"
   ]
  },
  {
   "cell_type": "code",
   "execution_count": null,
   "id": "69987327-c250-4813-b781-4d91799f2baa",
   "metadata": {},
   "outputs": [],
   "source": [
    "fill(\n",
    "    ff.forcing,\n",
    "    f.forcing_sum.sel(scenario='all') - f.forcing.sel(specie=other).sum(dim='specie').sel(scenario='all'),\n",
    "    specie=\"bulk\",\n",
    "    scenario=\"no_other\"\n",
    ")"
   ]
  },
  {
   "cell_type": "code",
   "execution_count": null,
   "id": "26b1fbf1-b71d-46fd-94ed-9867f90518e3",
   "metadata": {},
   "outputs": [],
   "source": [
    "fill(\n",
    "    ff.forcing,\n",
    "    f.forcing_sum.sel(scenario='all') - f.forcing.sel(specie=natural).sum(dim='specie').sel(scenario='all'),\n",
    "    specie=\"bulk\",\n",
    "    scenario=\"no_natural\"\n",
    ")"
   ]
  },
  {
   "cell_type": "code",
   "execution_count": null,
   "id": "31e03da1-ce78-4cf2-9983-28e82ea41562",
   "metadata": {},
   "outputs": [],
   "source": [
    "fill(\n",
    "    ff.forcing,\n",
    "    f.forcing_sum.sel(scenario='all'),\n",
    "    specie=\"bulk\",\n",
    "    scenario=\"all\"\n",
    ")"
   ]
  },
  {
   "cell_type": "markdown",
   "id": "6595519e-ab7d-4bcf-b042-0f27c80d5e70",
   "metadata": {},
   "source": [
    "### fill and initialise configs"
   ]
  },
  {
   "cell_type": "code",
   "execution_count": null,
   "id": "db3e9902-e14b-416e-99ff-792f9cba862a",
   "metadata": {},
   "outputs": [],
   "source": [
    "# climate response\n",
    "fill(\n",
    "    ff.climate_configs[\"ocean_heat_capacity\"],\n",
    "    df_configs_141.loc[:, \"clim_c1\":\"clim_c3\"].values,\n",
    ")\n",
    "fill(\n",
    "    ff.climate_configs[\"ocean_heat_transfer\"],\n",
    "    df_configs_141.loc[:, \"clim_kappa1\":\"clim_kappa3\"].values,\n",
    ")  # not massively robust, since relies on kappa1, kappa2, kappa3 being in adjacent cols\n",
    "fill(\n",
    "    ff.climate_configs[\"deep_ocean_efficacy\"],\n",
    "    df_configs_141[\"clim_epsilon\"].values.squeeze(),\n",
    ")\n",
    "fill(\n",
    "    ff.climate_configs[\"gamma_autocorrelation\"],\n",
    "    df_configs_141[\"clim_gamma\"].values.squeeze(),\n",
    ")\n",
    "fill(ff.climate_configs[\"sigma_eta\"], df_configs_141[\"clim_sigma_eta\"].values.squeeze())\n",
    "fill(ff.climate_configs[\"sigma_xi\"], df_configs_141[\"clim_sigma_xi\"].values.squeeze())\n",
    "fill(ff.climate_configs[\"seed\"], df_configs_141[\"seed\"])\n",
    "fill(ff.climate_configs[\"stochastic_run\"], False)\n",
    "fill(ff.climate_configs[\"use_seed\"], False)\n",
    "fill(ff.climate_configs[\"forcing_4co2\"], df_configs_141[\"clim_F_4xCO2\"])\n",
    "\n",
    "# initial conditions\n",
    "initialise(ff.forcing, 0)\n",
    "initialise(ff.temperature, 0)"
   ]
  },
  {
   "cell_type": "code",
   "execution_count": null,
   "id": "d2194a18-f89c-4f46-a413-64f0bd672099",
   "metadata": {},
   "outputs": [],
   "source": [
    "ff.run()"
   ]
  },
  {
   "cell_type": "code",
   "execution_count": null,
   "id": "19b07379-fe9c-4961-a5fc-6f0633c43efb",
   "metadata": {},
   "outputs": [],
   "source": [
    "base = np.arange(1850, 1901)\n",
    "temp_ghgs = (\n",
    "    (\n",
    "        ff.temperature.sel(scenario=\"all\", layer=0) - ff.temperature.sel(scenario=\"all\", layer=0, timebounds=base).mean(dim='timebounds')\n",
    "    ) - (\n",
    "        ff.temperature.sel(scenario=\"no_ghgs\", layer=0) - ff.temperature.sel(scenario=\"no_ghgs\", layer=0, timebounds=base).mean(dim='timebounds')\n",
    "    )\n",
    ")\n",
    "temp_aerosols = (\n",
    "    (\n",
    "        ff.temperature.sel(scenario=\"all\", layer=0) - ff.temperature.sel(scenario=\"all\", layer=0, timebounds=base).mean(dim='timebounds')\n",
    "    ) - (\n",
    "        ff.temperature.sel(scenario=\"no_aerosols\", layer=0) - ff.temperature.sel(scenario=\"no_aerosols\", layer=0, timebounds=base).mean(dim='timebounds')\n",
    "    )\n",
    ")\n",
    "temp_natural = (\n",
    "    (\n",
    "        ff.temperature.sel(scenario=\"all\", layer=0) - ff.temperature.sel(scenario=\"all\", layer=0, timebounds=base).mean(dim='timebounds')\n",
    "    ) - (\n",
    "        ff.temperature.sel(scenario=\"no_natural\", layer=0) - ff.temperature.sel(scenario=\"no_natural\", layer=0, timebounds=base).mean(dim='timebounds')\n",
    "    )\n",
    ")\n",
    "temp_other = (\n",
    "    (\n",
    "        ff.temperature.sel(scenario=\"all\", layer=0) - ff.temperature.sel(scenario=\"all\", layer=0, timebounds=base).mean(dim='timebounds')\n",
    "    ) - (\n",
    "        ff.temperature.sel(scenario=\"no_other\", layer=0) - ff.temperature.sel(scenario=\"no_other\", layer=0, timebounds=base).mean(dim='timebounds')\n",
    "    )\n",
    ")\n",
    "temp_all = ff.temperature.sel(scenario=\"all\", layer=0) - ff.temperature.sel(scenario=\"all\", layer=0, timebounds=base).mean(dim='timebounds')"
   ]
  },
  {
   "cell_type": "code",
   "execution_count": null,
   "id": "9a9c76a9-6d41-4caa-be77-a844dc1fe686",
   "metadata": {},
   "outputs": [],
   "source": [
    "df_obs = pd.read_csv('../data/observations/IGCC_GMST_1850-2022.csv', index_col=0)\n",
    "df_obs"
   ]
  },
  {
   "cell_type": "markdown",
   "id": "5219df0a-5ebf-4a7a-aa6d-465e5a487ebe",
   "metadata": {},
   "source": [
    "## Gillett et al. (2021) style plot\n",
    "\n",
    "fig 1 b in https://www.nature.com/articles/s41558-020-00965-9\n",
    "\n",
    "Note the ranges coming out of fair are much more constrained than CMIP6 models in Gillett et al., since the historical climate record and emergent climate metrics are constrained on observations and AR6 assessment (by the fair-calibrate ensemble)."
   ]
  },
  {
   "cell_type": "code",
   "execution_count": null,
   "id": "b69e163e-99ca-4bcd-b05b-6c7f6a0abbd3",
   "metadata": {},
   "outputs": [],
   "source": [
    "pl.fill_between(np.arange(1750, 2024), temp_all.quantile(0.05, dim=\"config\"), temp_all.quantile(0.95, dim=\"config\"), color='orange', alpha=0.2, lw=1)\n",
    "pl.plot(np.arange(1750, 2024), temp_all.median(dim=\"config\"), color='orange', label='All forcers');\n",
    "\n",
    "pl.fill_between(np.arange(1750, 2024), temp_ghgs.quantile(0.05, dim=\"config\"), temp_ghgs.quantile(0.95, dim=\"config\"), color='0.5', alpha=0.2, lw=1)\n",
    "pl.plot(np.arange(1750, 2024), temp_ghgs.median(dim=\"config\"), color='0.5', label='Greenhouse gases');\n",
    "\n",
    "pl.fill_between(np.arange(1750, 2024), temp_aerosols.quantile(0.05, dim=\"config\"), temp_aerosols.quantile(0.95, dim=\"config\"), color='blue', alpha=0.2, lw=1)\n",
    "pl.plot(np.arange(1750, 2024), temp_aerosols.median(dim=\"config\"), color='blue', label='Aerosols');\n",
    "\n",
    "#pl.plot(np.arange(1750, 2024), temp_other.median(dim=\"config\"), color='green')\n",
    "\n",
    "pl.fill_between(np.arange(1750, 2024), temp_natural.quantile(0.05, dim=\"config\"), temp_natural.quantile(0.95, dim=\"config\"), color='green', alpha=0.2, lw=1)\n",
    "pl.plot(np.arange(1750, 2024), temp_natural.median(dim=\"config\"), color='green', label='Natural');\n",
    "pl.plot(df_obs.gmst, color='k', label='4-dataset mean obs. (Forster et al. 2023)')\n",
    "\n",
    "pl.ylabel('°C relative to 1850-1900')\n",
    "pl.legend();\n",
    "pl.grid()\n",
    "\n",
    "pl.xlim(1850, 2023)\n",
    "pl.ylim(-1.5, 2.5)\n",
    "\n",
    "os.makedirs('../plots/', exist_ok=True)\n",
    "pl.tight_layout()\n",
    "pl.savefig('../plots/attributed_warming_rel1850-1900.png')"
   ]
  },
  {
   "cell_type": "code",
   "execution_count": null,
   "id": "29e620d7-0614-45bc-bb93-9fa00991ba8f",
   "metadata": {},
   "outputs": [],
   "source": [
    "temp_aerosols.median(dim=\"config\")"
   ]
  },
  {
   "cell_type": "code",
   "execution_count": null,
   "id": "d168b710-cc07-4b47-82ab-1fd84af0d64a",
   "metadata": {},
   "outputs": [],
   "source": [
    "df_out = pd.DataFrame(\n",
    "    np.array(\n",
    "        [\n",
    "            temp_ghgs.quantile(0.05, dim=\"config\").data,\n",
    "            temp_ghgs.median(dim=\"config\").data,\n",
    "            temp_ghgs.quantile(0.95, dim=\"config\").data,\n",
    "            temp_aerosols.quantile(0.05, dim=\"config\").data,\n",
    "            temp_aerosols.median(dim=\"config\").data,\n",
    "            temp_aerosols.quantile(0.95, dim=\"config\").data,\n",
    "            temp_other.quantile(0.05, dim=\"config\").data,\n",
    "            temp_other.median(dim=\"config\").data,\n",
    "            temp_other.quantile(0.95, dim=\"config\").data,\n",
    "            temp_natural.quantile(0.05, dim=\"config\").data,\n",
    "            temp_natural.median(dim=\"config\").data,\n",
    "            temp_natural.quantile(0.95, dim=\"config\").data,\n",
    "            temp_all.quantile(0.05, dim=\"config\").data,\n",
    "            temp_all.median(dim=\"config\").data,\n",
    "            temp_all.quantile(0.95, dim=\"config\").data,\n",
    "        ]\n",
    "    ).T,\n",
    "    index=np.arange(1750, 2024),\n",
    "    columns=['ghg_05', 'ghg_50', 'ghg_95', 'aerosol_05', 'aerosol_50', 'aerosol_95', 'other_05', 'other_50', 'other_95', 'natural_05', 'natural_50', 'natural_95', 'all_05', 'all_50', 'all_95']\n",
    ")"
   ]
  },
  {
   "cell_type": "code",
   "execution_count": null,
   "id": "a35bc6ac-df71-43a2-bc45-0ada2e6c7c8b",
   "metadata": {},
   "outputs": [],
   "source": [
    "os.makedirs('../output', exist_ok=True)\n",
    "df_out.to_csv('../output/attributed_warming.csv')"
   ]
  },
  {
   "cell_type": "code",
   "execution_count": null,
   "id": "b2e37b0f-737c-48bc-8bc7-9c15e3d01b29",
   "metadata": {},
   "outputs": [],
   "source": []
  }
 ],
 "metadata": {
  "kernelspec": {
   "display_name": "Python 3 (ipykernel)",
   "language": "python",
   "name": "python3"
  },
  "language_info": {
   "codemirror_mode": {
    "name": "ipython",
    "version": 3
   },
   "file_extension": ".py",
   "mimetype": "text/x-python",
   "name": "python",
   "nbconvert_exporter": "python",
   "pygments_lexer": "ipython3",
   "version": "3.12.0"
  }
 },
 "nbformat": 4,
 "nbformat_minor": 5
}
