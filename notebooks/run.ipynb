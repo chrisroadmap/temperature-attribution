{
 "cells": [
  {
   "cell_type": "markdown",
   "id": "0",
   "metadata": {},
   "source": [
    "# Run temperature attributions and save out\n",
    "\n",
    "1. Run one scenario emissions driven. Save out the following forcing categories:\n",
    "\n",
    "- All forcing\n",
    "- All minus GHGs\n",
    "- All minus aerosols\n",
    "- All minus other anthropogenic\n",
    "- All minus natural\n",
    "- All minus anthropogenic\n",
    "\n",
    "2. re-run forcing-driven scenarios with the above."
   ]
  },
  {
   "cell_type": "code",
   "execution_count": null,
   "id": "1",
   "metadata": {},
   "outputs": [],
   "source": [
    "import logging\n",
    "import os\n",
    "\n",
    "from fair import FAIR\n",
    "from fair.interface import fill, initialise\n",
    "from fair.io import read_properties\n",
    "import matplotlib.pyplot as pl\n",
    "import numpy as np\n",
    "import pandas as pd\n",
    "import scipy.stats\n",
    "import xarray as xr"
   ]
  },
  {
   "cell_type": "code",
   "execution_count": null,
   "id": "2",
   "metadata": {},
   "outputs": [],
   "source": [
    "logger = logging.getLogger('fair')\n",
    "logger.setLevel(level=logging.CRITICAL)"
   ]
  },
  {
   "cell_type": "code",
   "execution_count": null,
   "id": "3",
   "metadata": {},
   "outputs": [],
   "source": [
    "pl.style.use('../defaults.mplstyle')"
   ]
  },
  {
   "cell_type": "code",
   "execution_count": null,
   "id": "4",
   "metadata": {},
   "outputs": [],
   "source": [
    "output_ensemble_size=841"
   ]
  },
  {
   "cell_type": "code",
   "execution_count": null,
   "id": "5",
   "metadata": {},
   "outputs": [],
   "source": [
    "scenarios = [\"all\"]"
   ]
  },
  {
   "cell_type": "code",
   "execution_count": null,
   "id": "6",
   "metadata": {},
   "outputs": [],
   "source": [
    "f = FAIR()\n",
    "f.define_time(1750, 2024, 1)\n",
    "f.define_scenarios(scenarios)\n",
    "species, properties = read_properties('../data/calibration/v1.4.5/species_configs_properties_1.4.5.csv')\n",
    "f.define_species(species, properties)\n",
    "f.ch4_method='Thornhill2021'\n",
    "df_configs = pd.read_csv('../data/calibration/v1.4.5/calibrated_constrained_parameters_1.4.5.csv', index_col=0)\n",
    "f.define_configs(df_configs.index)\n",
    "f.allocate()"
   ]
  },
  {
   "cell_type": "markdown",
   "id": "7",
   "metadata": {},
   "source": [
    "## First, emissions-driven run"
   ]
  },
  {
   "cell_type": "markdown",
   "id": "8",
   "metadata": {},
   "source": [
    "### Get emissions and forcing into fair\n",
    "\n",
    "We use the 2022 harmonization of historical emissions from Smith et al. (2024), plus a one-year extension to 2023 under the proposed ScenarioMIP \"medium\" pathway."
   ]
  },
  {
   "cell_type": "code",
   "execution_count": null,
   "id": "9",
   "metadata": {},
   "outputs": [],
   "source": [
    "f.fill_from_csv(\n",
    "    emissions_file='../data/emissions/historical_1750-2023.csv',\n",
    "    forcing_file='../data/forcing/volcanic_solar.csv',\n",
    ")"
   ]
  },
  {
   "cell_type": "code",
   "execution_count": null,
   "id": "10",
   "metadata": {},
   "outputs": [],
   "source": [
    "f.emissions"
   ]
  },
  {
   "cell_type": "markdown",
   "id": "11",
   "metadata": {},
   "source": [
    "### Fill in all the configs"
   ]
  },
  {
   "cell_type": "code",
   "execution_count": null,
   "id": "12",
   "metadata": {},
   "outputs": [],
   "source": [
    "fill(\n",
    "    f.forcing,\n",
    "    f.forcing.sel(specie=\"Volcanic\") * df_configs[\"forcing_scale[Volcanic]\"].values.squeeze(),\n",
    "    specie=\"Volcanic\",\n",
    ")\n",
    "fill(\n",
    "    f.forcing,\n",
    "    f.forcing.sel(specie=\"Solar\") * df_configs[\"forcing_scale[Solar]\"].values.squeeze(),\n",
    "    specie=\"Solar\",\n",
    ")\n",
    "\n",
    "f.fill_species_configs(\"../data/calibration/v1.4.5/species_configs_properties_1.4.5.csv\")\n",
    "f.override_defaults(\"../data/calibration/v1.4.5/calibrated_constrained_parameters_1.4.5.csv\")\n",
    "\n",
    "# initial conditions\n",
    "initialise(f.concentration, f.species_configs[\"baseline_concentration\"])\n",
    "initialise(f.forcing, 0)\n",
    "initialise(f.temperature, 0)\n",
    "initialise(f.cumulative_emissions, 0)\n",
    "initialise(f.airborne_emissions, 0)"
   ]
  },
  {
   "cell_type": "code",
   "execution_count": null,
   "id": "13",
   "metadata": {},
   "outputs": [],
   "source": [
    "f.run()"
   ]
  },
  {
   "cell_type": "markdown",
   "id": "14",
   "metadata": {},
   "source": [
    "## Now isolate out forcing cats"
   ]
  },
  {
   "cell_type": "code",
   "execution_count": null,
   "id": "15",
   "metadata": {},
   "outputs": [],
   "source": [
    "f.species"
   ]
  },
  {
   "cell_type": "code",
   "execution_count": null,
   "id": "16",
   "metadata": {},
   "outputs": [],
   "source": [
    "ghgs = [\n",
    " 'CO2',\n",
    " 'CH4',\n",
    " 'N2O',\n",
    " 'CFC-11',\n",
    " 'CFC-12',\n",
    " 'CFC-113',\n",
    " 'CFC-114',\n",
    " 'CFC-115',\n",
    " 'HCFC-22',\n",
    " 'HCFC-141b',\n",
    " 'HCFC-142b',\n",
    " 'CCl4',\n",
    " 'CHCl3',\n",
    " 'CH2Cl2',\n",
    " 'CH3Cl',\n",
    " 'CH3CCl3',\n",
    " 'CH3Br',\n",
    " 'Halon-1211',\n",
    " 'Halon-1301',\n",
    " 'Halon-2402',\n",
    " 'CF4',\n",
    " 'C2F6',\n",
    " 'C3F8',\n",
    " 'c-C4F8',\n",
    " 'C4F10',\n",
    " 'C5F12',\n",
    " 'C6F14',\n",
    " 'C7F16',\n",
    " 'C8F18',\n",
    " 'NF3',\n",
    " 'SF6',\n",
    " 'SO2F2',\n",
    " 'HFC-125',\n",
    " 'HFC-134a',\n",
    " 'HFC-143a',\n",
    " 'HFC-152a',\n",
    " 'HFC-227ea',\n",
    " 'HFC-23',\n",
    " 'HFC-236fa',\n",
    " 'HFC-245fa',\n",
    " 'HFC-32',\n",
    " 'HFC-365mfc',\n",
    " 'HFC-4310mee',\n",
    "]"
   ]
  },
  {
   "cell_type": "code",
   "execution_count": null,
   "id": "17",
   "metadata": {},
   "outputs": [],
   "source": [
    "aerosols = [\n",
    " 'Aerosol-radiation interactions',\n",
    " 'Aerosol-cloud interactions',\n",
    "]"
   ]
  },
  {
   "cell_type": "code",
   "execution_count": null,
   "id": "18",
   "metadata": {},
   "outputs": [],
   "source": [
    "natural = [\n",
    " 'Solar',\n",
    " 'Volcanic',\n",
    "]"
   ]
  },
  {
   "cell_type": "code",
   "execution_count": null,
   "id": "19",
   "metadata": {},
   "outputs": [],
   "source": [
    "other = [\n",
    " 'Ozone',\n",
    " 'Light absorbing particles on snow and ice',\n",
    " 'Stratospheric water vapour',\n",
    " 'Land use',\n",
    "]"
   ]
  },
  {
   "cell_type": "code",
   "execution_count": null,
   "id": "20",
   "metadata": {},
   "outputs": [],
   "source": [
    "anthro = list(set(f.species) - set(natural))\n",
    "anthro"
   ]
  },
  {
   "cell_type": "code",
   "execution_count": null,
   "id": "21",
   "metadata": {},
   "outputs": [],
   "source": [
    "pl.plot(f.forcing.sel(specie=ghgs).sum(dim='specie').sel(scenario='all'));"
   ]
  },
  {
   "cell_type": "code",
   "execution_count": null,
   "id": "22",
   "metadata": {},
   "outputs": [],
   "source": [
    "pl.plot(f.forcing.sel(specie=aerosols).sum(dim='specie').sel(scenario='all'));"
   ]
  },
  {
   "cell_type": "code",
   "execution_count": null,
   "id": "23",
   "metadata": {},
   "outputs": [],
   "source": [
    "pl.plot(f.forcing.sel(specie=other).sum(dim='specie').sel(scenario='all'));"
   ]
  },
  {
   "cell_type": "code",
   "execution_count": null,
   "id": "24",
   "metadata": {},
   "outputs": [],
   "source": [
    "pl.plot(f.forcing.sel(specie=natural).sum(dim='specie').sel(scenario='all'));"
   ]
  },
  {
   "cell_type": "code",
   "execution_count": null,
   "id": "25",
   "metadata": {},
   "outputs": [],
   "source": [
    "pl.plot(f.forcing.sel(specie=anthro).sum(dim='specie').sel(scenario='all'));"
   ]
  },
  {
   "cell_type": "markdown",
   "id": "26",
   "metadata": {},
   "source": [
    "### Check linearity\n",
    "\n",
    "note y-axis value very small - minimal floating point differences are fine"
   ]
  },
  {
   "cell_type": "code",
   "execution_count": null,
   "id": "27",
   "metadata": {},
   "outputs": [],
   "source": [
    "pl.plot(\n",
    "    f.forcing_sum.sel(scenario='all') - (\n",
    "        f.forcing.sel(specie=ghgs).sum(dim='specie').sel(scenario='all') +\n",
    "        f.forcing.sel(specie=aerosols).sum(dim='specie').sel(scenario='all') +\n",
    "        f.forcing.sel(specie=other).sum(dim='specie').sel(scenario='all') + \n",
    "        f.forcing.sel(specie=natural).sum(dim='specie').sel(scenario='all')\n",
    "    )\n",
    ");"
   ]
  },
  {
   "cell_type": "code",
   "execution_count": null,
   "id": "28",
   "metadata": {},
   "outputs": [],
   "source": [
    "pl.plot(\n",
    "    f.forcing_sum.sel(scenario='all') - (\n",
    "        f.forcing.sel(specie=anthro).sum(dim='specie').sel(scenario='all') +\n",
    "        f.forcing.sel(specie=natural).sum(dim='specie').sel(scenario='all')\n",
    "    )\n",
    ");"
   ]
  },
  {
   "cell_type": "markdown",
   "id": "29",
   "metadata": {},
   "source": [
    "## Constrained ensemble statistics\n",
    "\n",
    "Compare the constrained ensemble to the IPCC assessed ranges. ECS is asymmetric so we fit a skew-normal to the percentiles."
   ]
  },
  {
   "cell_type": "code",
   "execution_count": null,
   "id": "30",
   "metadata": {},
   "outputs": [],
   "source": [
    "def opt(x, q05_desired, q50_desired, q95_desired):\n",
    "    \"\"\"Fit a skew-normal distribution to 5, 50, 95 percentiles.\n",
    "    \n",
    "    x is (a, loc, scale) in that order.\"\"\"\n",
    "    q05, q50, q95 = scipy.stats.skewnorm.ppf(\n",
    "        (0.05, 0.50, 0.95), x[0], loc=x[1], scale=x[2]\n",
    "    )\n",
    "    return (q05 - q05_desired, q50 - q50_desired, q95 - q95_desired)"
   ]
  },
  {
   "cell_type": "code",
   "execution_count": null,
   "id": "31",
   "metadata": {},
   "outputs": [],
   "source": [
    "# conversion from one standard deviation to 90% range\n",
    "NINETY_TO_ONESIGMA = scipy.stats.norm.ppf(0.95)\n",
    "NINETY_TO_ONESIGMA"
   ]
  },
  {
   "cell_type": "code",
   "execution_count": null,
   "id": "32",
   "metadata": {},
   "outputs": [],
   "source": [
    "ecs_params = scipy.optimize.root(opt, [1, 1, 1], args=(2, 3, 5)).x\n",
    "ecs_params"
   ]
  },
  {
   "cell_type": "code",
   "execution_count": null,
   "id": "33",
   "metadata": {},
   "outputs": [],
   "source": [
    "aer_dist = scipy.stats.norm(loc=-1.3, scale=0.7/NINETY_TO_ONESIGMA)"
   ]
  },
  {
   "cell_type": "code",
   "execution_count": null,
   "id": "34",
   "metadata": {},
   "outputs": [],
   "source": [
    "ecs_samp = ((df_configs['forcing_4co2']/2)/df_configs['ocean_heat_transfer[0]']).values\n",
    "ecs_dist = scipy.stats.skewnorm(a=ecs_params[0], loc=ecs_params[1], scale=ecs_params[2])"
   ]
  },
  {
   "cell_type": "code",
   "execution_count": null,
   "id": "35",
   "metadata": {},
   "outputs": [],
   "source": [
    "aer_samp = f.forcing.sel(specie=aerosols, timebounds=np.arange(2005, 2015)).sum(dim='specie').sel(scenario='all').mean(dim='timebounds')"
   ]
  },
  {
   "cell_type": "code",
   "execution_count": null,
   "id": "36",
   "metadata": {},
   "outputs": [],
   "source": [
    "fig, ax = pl.subplots(1, 3, figsize=(12,4))\n",
    "\n",
    "ax[0].hist(aer_samp, bins=np.arange(-2.5, 0.1, 0.1), density=True)\n",
    "ax[0].plot(np.linspace(-3, 0.5, 101), aer_dist.pdf(np.linspace(-3, 0.5, 101)), color='k', lw=2)\n",
    "ax[0].set_xlim(-3, 0.5)\n",
    "ax[0].set_title('Aerosol forcing')\n",
    "ax[0].set_xlabel('W m$^{-2}$')\n",
    "ax[0].set_ylabel('Density')\n",
    "\n",
    "ax[1].hist(ecs_samp, bins=np.arange(0, 8.1, 0.2), density=True, label='Constrained ensemble')\n",
    "ax[1].plot(np.linspace(0, 8, 101), ecs_dist.pdf(np.linspace(0, 8, 101)), color='k', lw=2, label='IPCC AR6')\n",
    "ax[1].set_xlim(0, 8)\n",
    "ax[1].legend(fontsize=10, frameon=False)\n",
    "ax[1].set_title('ECS')\n",
    "ax[1].set_xlabel('ECS, °C')\n",
    "ax[1].set_ylabel('Density')\n",
    "\n",
    "ax[2].scatter(ecs_samp, aer_samp)\n",
    "ax[2].set_xlim(1,8)\n",
    "ax[2].set_ylim(-2.6, 0.1)\n",
    "ax[2].set_title('Correlation')\n",
    "ax[2].set_xlabel('ECS, °C')\n",
    "ax[2].set_ylabel('Aerosol forcing, W m$^{-2}$')\n",
    "\n",
    "fig.tight_layout()\n",
    "os.makedirs('../plots/', exist_ok=True)\n",
    "pl.savefig('../plots/distributions.png')"
   ]
  },
  {
   "cell_type": "code",
   "execution_count": null,
   "id": "37",
   "metadata": {},
   "outputs": [],
   "source": [
    "scenarios = [\"all\", \"no_ghgs\", \"no_aerosols\", \"no_other\", \"no_natural\", \"no_anthro\"]"
   ]
  },
  {
   "cell_type": "code",
   "execution_count": null,
   "id": "38",
   "metadata": {},
   "outputs": [],
   "source": [
    "ff = FAIR()\n",
    "ff.define_time(1750, 2024, 1)\n",
    "ff.define_scenarios(scenarios)\n",
    "ff.define_configs(df_configs.index)\n",
    "\n",
    "species = [\"bulk\"]\n",
    "properties = {\n",
    "    \"bulk\": {\n",
    "        \"type\": \"unspecified\",\n",
    "        \"input_mode\": \"forcing\",\n",
    "        \"greenhouse_gas\": False,\n",
    "        \"aerosol_chemistry_from_emissions\": False,\n",
    "        \"aerosol_chemistry_from_concentration\": False,\n",
    "    }\n",
    "}\n",
    "\n",
    "ff.define_species(species, properties)\n",
    "ff.allocate()"
   ]
  },
  {
   "cell_type": "markdown",
   "id": "39",
   "metadata": {},
   "source": [
    "### Create forcing-driven time series"
   ]
  },
  {
   "cell_type": "code",
   "execution_count": null,
   "id": "40",
   "metadata": {},
   "outputs": [],
   "source": [
    "fill(\n",
    "    ff.forcing,\n",
    "    f.forcing_sum.sel(scenario='all') - f.forcing.sel(specie=ghgs).sum(dim='specie').sel(scenario='all'),\n",
    "    specie=\"bulk\",\n",
    "    scenario=\"no_ghgs\"\n",
    ")"
   ]
  },
  {
   "cell_type": "code",
   "execution_count": null,
   "id": "41",
   "metadata": {},
   "outputs": [],
   "source": [
    "fill(\n",
    "    ff.forcing,\n",
    "    f.forcing_sum.sel(scenario='all') - f.forcing.sel(specie=aerosols).sum(dim='specie').sel(scenario='all'),\n",
    "    specie=\"bulk\",\n",
    "    scenario=\"no_aerosols\"\n",
    ")"
   ]
  },
  {
   "cell_type": "code",
   "execution_count": null,
   "id": "42",
   "metadata": {},
   "outputs": [],
   "source": [
    "fill(\n",
    "    ff.forcing,\n",
    "    f.forcing_sum.sel(scenario='all') - f.forcing.sel(specie=other).sum(dim='specie').sel(scenario='all'),\n",
    "    specie=\"bulk\",\n",
    "    scenario=\"no_other\"\n",
    ")"
   ]
  },
  {
   "cell_type": "code",
   "execution_count": null,
   "id": "43",
   "metadata": {},
   "outputs": [],
   "source": [
    "fill(\n",
    "    ff.forcing,\n",
    "    f.forcing_sum.sel(scenario='all') - f.forcing.sel(specie=natural).sum(dim='specie').sel(scenario='all'),\n",
    "    specie=\"bulk\",\n",
    "    scenario=\"no_natural\"\n",
    ")"
   ]
  },
  {
   "cell_type": "code",
   "execution_count": null,
   "id": "44",
   "metadata": {},
   "outputs": [],
   "source": [
    "fill(\n",
    "    ff.forcing,\n",
    "    f.forcing_sum.sel(scenario='all') - f.forcing.sel(specie=anthro).sum(dim='specie').sel(scenario='all'),\n",
    "    specie=\"bulk\",\n",
    "    scenario=\"no_anthro\"\n",
    ")"
   ]
  },
  {
   "cell_type": "code",
   "execution_count": null,
   "id": "45",
   "metadata": {},
   "outputs": [],
   "source": [
    "fill(\n",
    "    ff.forcing,\n",
    "    f.forcing_sum.sel(scenario='all'),\n",
    "    specie=\"bulk\",\n",
    "    scenario=\"all\"\n",
    ")"
   ]
  },
  {
   "cell_type": "markdown",
   "id": "46",
   "metadata": {},
   "source": [
    "### fill and initialise configs"
   ]
  },
  {
   "cell_type": "code",
   "execution_count": null,
   "id": "47",
   "metadata": {},
   "outputs": [],
   "source": [
    "# climate response\n",
    "ff.override_defaults(\"../data/calibration/v1.4.5/calibrated_constrained_parameters_1.4.5.csv\")\n",
    "\n",
    "# initial conditions\n",
    "initialise(ff.forcing, 0)\n",
    "initialise(ff.temperature, 0)\n",
    "initialise(ff.ocean_heat_content_change, 0)"
   ]
  },
  {
   "cell_type": "code",
   "execution_count": null,
   "id": "48",
   "metadata": {},
   "outputs": [],
   "source": [
    "ff.run()"
   ]
  },
  {
   "cell_type": "code",
   "execution_count": null,
   "id": "49",
   "metadata": {},
   "outputs": [],
   "source": [
    "base = np.arange(1850, 1901)\n",
    "temp_ghgs = (\n",
    "    (\n",
    "        ff.temperature.sel(scenario=\"all\", layer=0) - ff.temperature.sel(scenario=\"all\", layer=0, timebounds=base).mean(dim='timebounds')\n",
    "    ) - (\n",
    "        ff.temperature.sel(scenario=\"no_ghgs\", layer=0) - ff.temperature.sel(scenario=\"no_ghgs\", layer=0, timebounds=base).mean(dim='timebounds')\n",
    "    )\n",
    ")\n",
    "temp_aerosols = (\n",
    "    (\n",
    "        ff.temperature.sel(scenario=\"all\", layer=0) - ff.temperature.sel(scenario=\"all\", layer=0, timebounds=base).mean(dim='timebounds')\n",
    "    ) - (\n",
    "        ff.temperature.sel(scenario=\"no_aerosols\", layer=0) - ff.temperature.sel(scenario=\"no_aerosols\", layer=0, timebounds=base).mean(dim='timebounds')\n",
    "    )\n",
    ")\n",
    "temp_natural = (\n",
    "    (\n",
    "        ff.temperature.sel(scenario=\"all\", layer=0) - ff.temperature.sel(scenario=\"all\", layer=0, timebounds=base).mean(dim='timebounds')\n",
    "    ) - (\n",
    "        ff.temperature.sel(scenario=\"no_natural\", layer=0) - ff.temperature.sel(scenario=\"no_natural\", layer=0, timebounds=base).mean(dim='timebounds')\n",
    "    )\n",
    ")\n",
    "temp_other = (\n",
    "    (\n",
    "        ff.temperature.sel(scenario=\"all\", layer=0) - ff.temperature.sel(scenario=\"all\", layer=0, timebounds=base).mean(dim='timebounds')\n",
    "    ) - (\n",
    "        ff.temperature.sel(scenario=\"no_other\", layer=0) - ff.temperature.sel(scenario=\"no_other\", layer=0, timebounds=base).mean(dim='timebounds')\n",
    "    )\n",
    ")\n",
    "temp_anthro = (\n",
    "    (\n",
    "        ff.temperature.sel(scenario=\"all\", layer=0) - ff.temperature.sel(scenario=\"all\", layer=0, timebounds=base).mean(dim='timebounds')\n",
    "    ) - (\n",
    "        ff.temperature.sel(scenario=\"no_anthro\", layer=0) - ff.temperature.sel(scenario=\"no_anthro\", layer=0, timebounds=base).mean(dim='timebounds')\n",
    "    )\n",
    ")\n",
    "temp_all = ff.temperature.sel(scenario=\"all\", layer=0) - ff.temperature.sel(scenario=\"all\", layer=0, timebounds=base).mean(dim='timebounds')"
   ]
  },
  {
   "cell_type": "code",
   "execution_count": null,
   "id": "50",
   "metadata": {},
   "outputs": [],
   "source": [
    "df_obs = pd.read_csv('../data/observations/HadCRUT.5.0.2.0.analysis.summary_series.global.annual.rebased_1850-1900.csv', index_col=0)\n",
    "df_obs"
   ]
  },
  {
   "cell_type": "markdown",
   "id": "51",
   "metadata": {},
   "source": [
    "## Gillett et al. (2021) style plot\n",
    "\n",
    "fig 1 b in https://www.nature.com/articles/s41558-020-00965-9\n",
    "\n",
    "Note the ranges coming out of fair are much more constrained than CMIP6 models in Gillett et al., since the historical climate record and emergent climate metrics are constrained on observations and AR6 assessment (by the fair-calibrate ensemble)."
   ]
  },
  {
   "cell_type": "code",
   "execution_count": null,
   "id": "52",
   "metadata": {},
   "outputs": [],
   "source": [
    "pl.fill_between(np.arange(1750, 2025), temp_all.quantile(0.05, dim=\"config\"), temp_all.quantile(0.95, dim=\"config\"), color='orange', alpha=0.2, lw=1)\n",
    "pl.plot(np.arange(1750, 2025), temp_all.median(dim=\"config\"), color='orange', label='All forcers');\n",
    "\n",
    "pl.fill_between(np.arange(1750, 2025), temp_ghgs.quantile(0.05, dim=\"config\"), temp_ghgs.quantile(0.95, dim=\"config\"), color='0.5', alpha=0.2, lw=1)\n",
    "pl.plot(np.arange(1750, 2025), temp_ghgs.median(dim=\"config\"), color='0.5', label='Greenhouse gases');\n",
    "\n",
    "pl.fill_between(np.arange(1750, 2025), temp_aerosols.quantile(0.05, dim=\"config\"), temp_aerosols.quantile(0.95, dim=\"config\"), color='blue', alpha=0.2, lw=1)\n",
    "pl.plot(np.arange(1750, 2025), temp_aerosols.median(dim=\"config\"), color='blue', label='Aerosols');\n",
    "\n",
    "#pl.plot(np.arange(1750, 2024), temp_other.median(dim=\"config\"), color='green')\n",
    "\n",
    "pl.fill_between(np.arange(1750, 2025), temp_natural.quantile(0.05, dim=\"config\"), temp_natural.quantile(0.95, dim=\"config\"), color='green', alpha=0.2, lw=1)\n",
    "pl.plot(np.arange(1750, 2025), temp_natural.median(dim=\"config\"), color='green', label='Natural');\n",
    "pl.plot(df_obs.gmst, color='k', label='HadCRUT5')\n",
    "\n",
    "pl.ylabel('°C relative to 1850-1900')\n",
    "pl.legend();\n",
    "pl.grid()\n",
    "\n",
    "pl.xlim(1850, 2024)\n",
    "pl.ylim(-1.5, 2.5)\n",
    "\n",
    "os.makedirs('../plots/', exist_ok=True)\n",
    "pl.tight_layout()\n",
    "pl.savefig('../plots/attributed_warming_rel1850-1900.png')"
   ]
  },
  {
   "cell_type": "code",
   "execution_count": null,
   "id": "53",
   "metadata": {},
   "outputs": [],
   "source": [
    "pl.fill_between(np.arange(1750, 2025), temp_anthro.quantile(0.05, dim=\"config\"), temp_anthro.quantile(0.95, dim=\"config\"), color='purple', alpha=0.2, lw=1)\n",
    "pl.plot(np.arange(1750, 2025), temp_anthro.median(dim=\"config\"), color='purple', label='Anthropogenic');\n",
    "\n",
    "pl.fill_between(np.arange(1750, 2025), temp_natural.quantile(0.05, dim=\"config\"), temp_natural.quantile(0.95, dim=\"config\"), color='green', alpha=0.2, lw=1)\n",
    "pl.plot(np.arange(1750, 2025), temp_natural.median(dim=\"config\"), color='green', label='Natural');\n",
    "pl.plot(df_obs.gmst, color='k', label='HadCRUT5')\n",
    "\n",
    "pl.ylabel('°C relative to 1850-1900')\n",
    "pl.legend();\n",
    "pl.grid()\n",
    "\n",
    "pl.xlim(1850, 2024)\n",
    "pl.ylim(-0.5, 1.5)\n",
    "\n",
    "os.makedirs('../plots/', exist_ok=True)\n",
    "pl.tight_layout()\n",
    "pl.savefig('../plots/attributed_warming_anth_nat_rel1850-1900.png')"
   ]
  },
  {
   "cell_type": "code",
   "execution_count": null,
   "id": "54",
   "metadata": {},
   "outputs": [],
   "source": [
    "temp_aerosols.median(dim=\"config\")"
   ]
  },
  {
   "cell_type": "code",
   "execution_count": null,
   "id": "55",
   "metadata": {},
   "outputs": [],
   "source": [
    "df_out = pd.DataFrame(\n",
    "    np.array(\n",
    "        [\n",
    "            temp_ghgs.quantile(0.05, dim=\"config\").data,\n",
    "            temp_ghgs.median(dim=\"config\").data,\n",
    "            temp_ghgs.quantile(0.95, dim=\"config\").data,\n",
    "            temp_aerosols.quantile(0.05, dim=\"config\").data,\n",
    "            temp_aerosols.median(dim=\"config\").data,\n",
    "            temp_aerosols.quantile(0.95, dim=\"config\").data,\n",
    "            temp_other.quantile(0.05, dim=\"config\").data,\n",
    "            temp_other.median(dim=\"config\").data,\n",
    "            temp_other.quantile(0.95, dim=\"config\").data,\n",
    "            temp_natural.quantile(0.05, dim=\"config\").data,\n",
    "            temp_natural.median(dim=\"config\").data,\n",
    "            temp_natural.quantile(0.95, dim=\"config\").data,\n",
    "            temp_anthro.quantile(0.05, dim=\"config\").data,\n",
    "            temp_anthro.median(dim=\"config\").data,\n",
    "            temp_anthro.quantile(0.95, dim=\"config\").data,\n",
    "            temp_all.quantile(0.05, dim=\"config\").data,\n",
    "            temp_all.median(dim=\"config\").data,\n",
    "            temp_all.quantile(0.95, dim=\"config\").data,\n",
    "        ]\n",
    "    ).T,\n",
    "    index=np.arange(1750, 2025),\n",
    "    columns=['ghg_05', 'ghg_50', 'ghg_95', 'aerosol_05', 'aerosol_50', 'aerosol_95', 'other_05', 'other_50', 'other_95', 'natural_05', 'natural_50', 'natural_95', 'anthro_05', 'anthro_50', 'anthro_95', 'all_05', 'all_50', 'all_95']\n",
    ")"
   ]
  },
  {
   "cell_type": "code",
   "execution_count": null,
   "id": "56",
   "metadata": {},
   "outputs": [],
   "source": [
    "os.makedirs('../output', exist_ok=True)\n",
    "df_out.to_csv('../output/attributed_warming.csv')"
   ]
  },
  {
   "cell_type": "code",
   "execution_count": null,
   "id": "57",
   "metadata": {},
   "outputs": [],
   "source": []
  }
 ],
 "metadata": {
  "kernelspec": {
   "display_name": "Python 3 (ipykernel)",
   "language": "python",
   "name": "python3"
  },
  "language_info": {
   "codemirror_mode": {
    "name": "ipython",
    "version": 3
   },
   "file_extension": ".py",
   "mimetype": "text/x-python",
   "name": "python",
   "nbconvert_exporter": "python",
   "pygments_lexer": "ipython3",
   "version": "3.13.0"
  }
 },
 "nbformat": 4,
 "nbformat_minor": 5
}
